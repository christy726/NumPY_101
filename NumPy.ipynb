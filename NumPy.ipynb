{
  "nbformat": 4,
  "nbformat_minor": 0,
  "metadata": {
    "colab": {
      "provenance": [],
      "authorship_tag": "ABX9TyNLUuOIfLDnpJGzBn+EH3K5",
      "include_colab_link": true
    },
    "kernelspec": {
      "name": "python3",
      "display_name": "Python 3"
    },
    "language_info": {
      "name": "python"
    }
  },
  "cells": [
    {
      "cell_type": "markdown",
      "metadata": {
        "id": "view-in-github",
        "colab_type": "text"
      },
      "source": [
        "<a href=\"https://colab.research.google.com/github/christy726/NumPY_101/blob/main/NumPy.ipynb\" target=\"_parent\"><img src=\"https://colab.research.google.com/assets/colab-badge.svg\" alt=\"Open In Colab\"/></a>"
      ]
    },
    {
      "cell_type": "markdown",
      "source": [
        "***Initializing NumPy***\n",
        "\n"
      ],
      "metadata": {
        "id": "vLk0D812uVJi"
      }
    },
    {
      "cell_type": "code",
      "source": [
        "import numpy as np\n",
        "import time"
      ],
      "metadata": {
        "id": "FnPGpqjsrE-1"
      },
      "execution_count": 39,
      "outputs": []
    },
    {
      "cell_type": "code",
      "source": [
        "a=np.zeros((6,2))\n",
        "print(f\"np.zeros(4) :   a = {a}, a shape = {a.shape}, a data type = {a.dtype}\")\n",
        "a = np.zeros((5,4))\n",
        "print(f\"np.zeros(4) :   a = {a}, a shape = {a.shape}, a data type = {a.dtype}\")"
      ],
      "metadata": {
        "id": "JGETPqO2rS5B",
        "colab": {
          "base_uri": "https://localhost:8080/"
        },
        "outputId": "ef691472-0fe4-4717-a784-7676a217cf9b"
      },
      "execution_count": 4,
      "outputs": [
        {
          "output_type": "stream",
          "name": "stdout",
          "text": [
            "np.zeros(4) :   a = [[0. 0.]\n",
            " [0. 0.]\n",
            " [0. 0.]\n",
            " [0. 0.]\n",
            " [0. 0.]\n",
            " [0. 0.]], a shape = (6, 2), a data type = float64\n",
            "np.zeros(4) :   a = [[0. 0. 0. 0.]\n",
            " [0. 0. 0. 0.]\n",
            " [0. 0. 0. 0.]\n",
            " [0. 0. 0. 0.]\n",
            " [0. 0. 0. 0.]], a shape = (5, 4), a data type = float64\n"
          ]
        }
      ]
    },
    {
      "cell_type": "code",
      "source": [
        "a=np.random.random_sample((2,4))\n",
        "print(f\"np.random.random_sample(2,4)  : a = {a}, \\n a shape ={a.shape}, a data type = {a.dtype}\")"
      ],
      "metadata": {
        "id": "H6NVuv6Txz-8",
        "colab": {
          "base_uri": "https://localhost:8080/"
        },
        "outputId": "0d4f9b44-73c0-440e-873a-2b82ba019372"
      },
      "execution_count": 5,
      "outputs": [
        {
          "output_type": "stream",
          "name": "stdout",
          "text": [
            "np.random.random_sample(2,4)  : a = [[0.79542062 0.51060846 0.51399004 0.31153278]\n",
            " [0.67195845 0.72269399 0.07056135 0.56140853]], \n",
            " a shape =(2, 4), a data type = float64\n"
          ]
        }
      ]
    },
    {
      "cell_type": "code",
      "source": [
        "a=np.arange((4))\n",
        "print(f\"np.arange(4) : a ={a} a shape ={a.shape}, a data typetype = {a.dtype}\")\n",
        "\n",
        "a=np.random.rand(5)\n",
        "print(a)"
      ],
      "metadata": {
        "colab": {
          "base_uri": "https://localhost:8080/"
        },
        "id": "BOS9UD0e_A83",
        "outputId": "73ca2beb-7d25-4c09-ac82-75a3277106e2"
      },
      "execution_count": 6,
      "outputs": [
        {
          "output_type": "stream",
          "name": "stdout",
          "text": [
            "np.arange(4) : a =[0 1 2 3] a shape =(4,), a data typetype = int64\n",
            "[0.68731926 0.69402812 0.41616656 0.24426965 0.70640909]\n"
          ]
        }
      ]
    },
    {
      "cell_type": "code",
      "source": [
        "a=np.array([[1,2,3],[4,5,6],[7,8,9]])\n",
        "print(f\"np.arange(4) : a ={a} a shape ={a.shape}, a data typetype = {a.dtype}\")"
      ],
      "metadata": {
        "colab": {
          "base_uri": "https://localhost:8080/"
        },
        "id": "LMNtvzZTCJWN",
        "outputId": "ce58c33a-baad-4e96-c564-3f460fa8011b"
      },
      "execution_count": 7,
      "outputs": [
        {
          "output_type": "stream",
          "name": "stdout",
          "text": [
            "np.arange(4) : a =[[1 2 3]\n",
            " [4 5 6]\n",
            " [7 8 9]] a shape =(3, 3), a data typetype = int64\n"
          ]
        }
      ]
    },
    {
      "cell_type": "markdown",
      "source": [
        "**Operations on vectors**"
      ],
      "metadata": {
        "id": "-t8pXIknDmsv"
      }
    },
    {
      "cell_type": "code",
      "source": [
        "#indexing_of_a_Vector\n",
        "\n",
        "a=np.arange(10)\n",
        "print(f\"a[2].shape = {a[2].shape}, a[2] = {a[2]}\")\n",
        "\n",
        "try:\n",
        "  c=a[10]\n",
        "except Exception as e:\n",
        "  print(\"The error mesage you eill see is : \")\n",
        "  print(e)\n"
      ],
      "metadata": {
        "colab": {
          "base_uri": "https://localhost:8080/"
        },
        "id": "L5bH-IyMC0fh",
        "outputId": "cdbd8720-886e-4f6b-b2fe-89fce88d9c3f"
      },
      "execution_count": 8,
      "outputs": [
        {
          "output_type": "stream",
          "name": "stdout",
          "text": [
            "a[2].shape = (), a[2] = 2\n",
            "The error mesage you eill see is : \n",
            "index 10 is out of bounds for axis 0 with size 10\n"
          ]
        }
      ]
    },
    {
      "cell_type": "code",
      "source": [
        "a=np.arange(10)\n",
        "print(f\"a         = {a}\")\n",
        "\n",
        "c=a[1:9:2]\n",
        "print(c)\n",
        "\n",
        "c = a[3:];\n",
        "print(\"a[3:]    = \", c)"
      ],
      "metadata": {
        "colab": {
          "base_uri": "https://localhost:8080/"
        },
        "id": "EVknmIvuMk5h",
        "outputId": "69177908-c60c-449a-eb99-e11619471085"
      },
      "execution_count": null,
      "outputs": [
        {
          "output_type": "stream",
          "name": "stdout",
          "text": [
            "a         = [0 1 2 3 4 5 6 7 8 9]\n",
            "[1 3 5 7]\n",
            "a[3:]    =  [3 4 5 6 7 8 9]\n"
          ]
        }
      ]
    },
    {
      "cell_type": "code",
      "source": [
        "a = np.arange(10)\n",
        "print(f\"a         = {a}\")\n",
        "\n",
        "c=a[2:7:1];\n",
        "print(f\"a[2:7:1] = {a[2:7:1]}\")\n",
        "\n",
        "c=a[3:];\n",
        "print(f\"a[3:] = {a[3:]}\")\n",
        "\n",
        "c=a[:3];\n",
        "print(f\"a[:3] = {a[:3]}\")\n",
        "\n",
        "c=a[:]\n",
        "print(f\"a[:] = {a[:]}\")"
      ],
      "metadata": {
        "colab": {
          "base_uri": "https://localhost:8080/"
        },
        "id": "0TdIXu72vdbR",
        "outputId": "157756e8-5799-4149-a6bd-512aaa77bf5c"
      },
      "execution_count": null,
      "outputs": [
        {
          "output_type": "stream",
          "name": "stdout",
          "text": [
            "a         = [0 1 2 3 4 5 6 7 8 9]\n",
            "a[2:7:1] = [2 3 4 5 6]\n",
            "a[3:] = [3 4 5 6 7 8 9]\n",
            "a[:3] = [0 1 2]\n",
            "a[:] = [0 1 2 3 4 5 6 7 8 9]\n"
          ]
        }
      ]
    },
    {
      "cell_type": "code",
      "source": [
        "a=np.array([1,2,3,4])\n",
        "print(f\"a          : {a}\")\n",
        "\n",
        "b=-a\n",
        "print(f\"b=-a = {b}\")\n",
        "\n",
        "\n",
        "b=np.sum(a)\n",
        "print(f\"np.sum(a) = {b}\")\n",
        "\n",
        "b=np.mean(a)\n",
        "print(f\"np.means(a) = {b}\")\n",
        "\n",
        "b=a**2\n",
        "print(f\"a**2 = {b}\")"
      ],
      "metadata": {
        "colab": {
          "base_uri": "https://localhost:8080/"
        },
        "id": "wSyFEAWrUpBP",
        "outputId": "f7fd7436-485c-4215-9f15-ebe6d145fe78"
      },
      "execution_count": null,
      "outputs": [
        {
          "output_type": "stream",
          "name": "stdout",
          "text": [
            "a          : [1 2 3 4]\n",
            "b=-a = [-1 -2 -3 -4]\n",
            "np.sum(a) = 10\n",
            "np.means(a) = 2.5\n",
            "a**2 = [ 1  4  9 16]\n"
          ]
        }
      ]
    },
    {
      "cell_type": "code",
      "source": [
        "a=np.array([1,2,4])\n",
        "b=np.array([-1,-2,3,4])\n",
        "#print(f\"the sum is {a+b}\")\n",
        "\n",
        "try:\n",
        "  c=a+b\n",
        "except Exception as e:\n",
        "  print(\"The error message you'll see is:\")\n",
        "  print(e)\n"
      ],
      "metadata": {
        "colab": {
          "base_uri": "https://localhost:8080/"
        },
        "id": "GyYBB5M8WDZR",
        "outputId": "3befdc96-16d2-49f8-c9ca-4c799dc6a3ea"
      },
      "execution_count": null,
      "outputs": [
        {
          "output_type": "stream",
          "name": "stdout",
          "text": [
            "The error message you'll see is:\n",
            "operands could not be broadcast together with shapes (3,) (4,) \n"
          ]
        }
      ]
    },
    {
      "cell_type": "code",
      "source": [
        "a=np.array([1,2,3,4])\n",
        "b=a*5\n",
        "print(f\"b=a*5 = {b}\")"
      ],
      "metadata": {
        "colab": {
          "base_uri": "https://localhost:8080/"
        },
        "id": "eUm5t09rYxpf",
        "outputId": "1481d5cf-63ff-4e04-dc44-8dc7ae7c0091"
      },
      "execution_count": null,
      "outputs": [
        {
          "output_type": "stream",
          "name": "stdout",
          "text": [
            "b=a*5 = [ 5 10 15 20]\n"
          ]
        }
      ]
    },
    {
      "cell_type": "code",
      "source": [
        "a=np.array([1,2,3,4])\n",
        "b=np.array([2,4,1,3])\n",
        "c=np.dot(a,b)\n",
        "print(f\"NumPy 1-D np.dot(a,b) ={c}, np.dot(a,b) = {c.shape}\")\n",
        "c=np.dot(b,a)\n",
        "print(f\"NumPy 1-D np.dot(a,b) ={c}, np.dot(a,b) = {c.shape}\")"
      ],
      "metadata": {
        "colab": {
          "base_uri": "https://localhost:8080/"
        },
        "id": "ce39mpoufS-y",
        "outputId": "3105afc7-4dd3-4ed8-c615-0a7c86a12c58"
      },
      "execution_count": null,
      "outputs": [
        {
          "output_type": "stream",
          "name": "stdout",
          "text": [
            "NumPy 1-D np.dot(a,b) =25, np.dot(a,b) = ()\n",
            "NumPy 1-D np.dot(a,b) =25, np.dot(a,b) = ()\n"
          ]
        }
      ]
    },
    {
      "cell_type": "code",
      "source": [
        "def my_dot(a, b):\n",
        "    \"\"\"\n",
        "   Compute the dot product of two vectors\n",
        "\n",
        "    Args:\n",
        "      a (ndarray (n,)):  input vector\n",
        "      b (ndarray (n,)):  input vector with same dimension as a\n",
        "\n",
        "    Returns:\n",
        "      x (scalar):\n",
        "    \"\"\"\n",
        "    x=0\n",
        "    for i in range(a.shape[0]):\n",
        "        x = x + a[i] * b[i]\n",
        "    return x\n",
        "\n",
        "\n",
        "# test 1-D\n",
        "a = np.array([1, 2, 3, 4])\n",
        "b = np.array([-1, 4, 3, 2])\n",
        "print(f\"my_dot(a, b) = {my_dot(a, b)}\")"
      ],
      "metadata": {
        "colab": {
          "base_uri": "https://localhost:8080/"
        },
        "id": "sI5Rs-4kk79U",
        "outputId": "f4a0eb58-9fa4-4280-f4d3-c425b75ed41d"
      },
      "execution_count": null,
      "outputs": [
        {
          "output_type": "stream",
          "name": "stdout",
          "text": [
            "my_dot(a, b) = 24\n"
          ]
        }
      ]
    },
    {
      "cell_type": "code",
      "source": [
        "np.random.seed(1)\n",
        "a = np.random.rand(10000000)  # very large arrays\n",
        "b = np.random.rand(10000000)\n",
        "\n",
        "tic = time.time()  # capture start time\n",
        "c = np.dot(a, b)\n",
        "toc = time.time()  # capture end time\n",
        "\n",
        "print(f\"np.dot(a, b) =  {c:.4f}\")\n",
        "print(f\"Vectorized version duration: {1000*(toc-tic):.4f} ms \")\n",
        "\n",
        "tic = time.time()  # capture start time\n",
        "c = my_dot(a,b)\n",
        "toc = time.time()  # capture end time\n",
        "\n",
        "print(f\"my_dot(a, b) =  {c:.4f}\")\n",
        "print(f\"loop version duration: {1000*(toc-tic):.4f} ms \")\n",
        "\n",
        "del(a);del(b)  #remove these big arrays from memory"
      ],
      "metadata": {
        "colab": {
          "base_uri": "https://localhost:8080/"
        },
        "id": "6REoW8g3gT65",
        "outputId": "17cbe9fb-1d45-4b53-ebc5-eaf17fc88257"
      },
      "execution_count": null,
      "outputs": [
        {
          "output_type": "stream",
          "name": "stdout",
          "text": [
            "np.dot(a, b) =  2501072.5817\n",
            "Vectorized version duration: 12.9411 ms \n",
            "my_dot(a, b) =  2501072.5817\n",
            "loop version duration: 3559.9139 ms \n"
          ]
        }
      ]
    },
    {
      "cell_type": "code",
      "source": [
        "X = np.array([[1],[2],[3],[4]])\n",
        "w = np.array([2])\n",
        "c = np.dot(X[1], w)\n",
        "\n",
        "print(f\"X[1] has shape {X[1].shape}\")\n",
        "print(f\"w has shape {w.shape}\")\n",
        "print(f\"c has shape {c.shape}\")"
      ],
      "metadata": {
        "colab": {
          "base_uri": "https://localhost:8080/"
        },
        "id": "Lb_GXS7t4LX8",
        "outputId": "b010df56-212c-43f7-9430-9b5757bf516e"
      },
      "execution_count": 9,
      "outputs": [
        {
          "output_type": "stream",
          "name": "stdout",
          "text": [
            "X[1] has shape (1,)\n",
            "w has shape (1,)\n",
            "c has shape ()\n"
          ]
        }
      ]
    },
    {
      "cell_type": "code",
      "source": [
        "a=np.zeros((1,5))\n",
        "print(f\"a shape = {a.shape}, a = {a}\")\n",
        "\n",
        "a=np.zeros((2,1))\n",
        "print(f'a shape = {a.shape}, a = {a}')\n",
        "\n",
        "a = np.random.random_sample((1, 1))\n",
        "print(f\"a shape = {a.shape}, a = {a}\")"
      ],
      "metadata": {
        "colab": {
          "base_uri": "https://localhost:8080/"
        },
        "id": "0LPTwfK05aNh",
        "outputId": "5f9d1eb1-a78c-4789-efc3-f0e922a41071"
      },
      "execution_count": 24,
      "outputs": [
        {
          "output_type": "stream",
          "name": "stdout",
          "text": [
            "a shape = (1, 5), a = [[0. 0. 0. 0. 0.]]\n",
            "a shape = (2, 1), a = [[0.]\n",
            " [0.]]\n",
            "a shape = (1, 1), a = [[0.34795856]]\n"
          ]
        }
      ]
    },
    {
      "cell_type": "code",
      "source": [
        "a = np.array([[5], [4], [3]])\n",
        "print(f\" a shape = {a.shape}, np.array: a = {a}\")\n",
        "\n",
        "a = np.array([[5],\n",
        "              [4],\n",
        "              [3]]);\n",
        "print(f\" a shape = {a.shape}, np.array: a = {a}\")"
      ],
      "metadata": {
        "colab": {
          "base_uri": "https://localhost:8080/"
        },
        "id": "21CK1pgA7IAO",
        "outputId": "ac4406a2-4816-4d1b-e495-798adbdc8c5a"
      },
      "execution_count": 26,
      "outputs": [
        {
          "output_type": "stream",
          "name": "stdout",
          "text": [
            " a shape = (3, 1), np.array: a = [[5]\n",
            " [4]\n",
            " [3]]\n",
            " a shape = (3, 1), np.array: a = [[5]\n",
            " [4]\n",
            " [3]]\n"
          ]
        }
      ]
    },
    {
      "cell_type": "code",
      "source": [
        "a=np.arange(6).reshape(-1,2)\n",
        "print(f\"a.shape: {a.shape}, \\na= {a}\")\n",
        "#print(\"\\n\",a[2])\n",
        "print(f\"\\na[2,0].shape:   {a[2, 0].shape}, a[2,0] = {a[2, 0]},     type(a[2,0]) = {type(a[2, 0])} Accessing an element returns a scalar\\n\")\n",
        "\n",
        "print(f\"\\na[2].shape = {a[2].shape}, a[2] = {a[2]}, \")\n",
        "print(f\"a[2].shape:   {a[2].shape}, a[2]   = {a[2]}, type(a[2])   = {type(a[2])}\")"
      ],
      "metadata": {
        "colab": {
          "base_uri": "https://localhost:8080/"
        },
        "id": "CM-v-0N86I_m",
        "outputId": "7dca10b3-e823-46f1-ae7f-a20777b3680e"
      },
      "execution_count": 46,
      "outputs": [
        {
          "output_type": "stream",
          "name": "stdout",
          "text": [
            "a.shape: (3, 2), \n",
            "a= [[0 1]\n",
            " [2 3]\n",
            " [4 5]]\n",
            "\n",
            "a[2,0].shape:   (), a[2,0] = 4,     type(a[2,0]) = <class 'numpy.int64'> Accessing an element returns a scalar\n",
            "\n",
            "\n",
            "a[2].shape = (2,), a[2] = [4 5], \n",
            "a[2].shape:   (2,), a[2]   = [4 5], type(a[2])   = <class 'numpy.ndarray'>\n"
          ]
        }
      ]
    },
    {
      "cell_type": "code",
      "source": [
        "a=np.arange(20).reshape(-1,10)\n",
        "print(f\"a = \\n{a}\")\n",
        "\n",
        "print(f\"a[0, 2:7:1] = {a[0, 2:7:1]}, a[0, 2:7:1].shape = {a[0, 2:7:1].shape}\")\n",
        "\n",
        "print(f\"a[:, 2:7:1] = {a[:, 2:7:1]}, a[0, 2:7:1].shape = {a[:, 2:7:1].shape}\")\n",
        "\n",
        "print(\"a[:,:] = \\n\", a[:,:], \",  a[:,:].shape =\", a[:,:].shape)\n",
        "\n",
        "print(\"a[1]   = \", a[1],   \",  a[1].shape   =\", a[1].shape, \"a 1-D array\")"
      ],
      "metadata": {
        "colab": {
          "base_uri": "https://localhost:8080/"
        },
        "id": "BsJh785xEdTw",
        "outputId": "e9a1d221-907d-4af1-a018-a2ac5e7e99aa"
      },
      "execution_count": 65,
      "outputs": [
        {
          "output_type": "stream",
          "name": "stdout",
          "text": [
            "a = \n",
            "[[ 0  1  2  3  4  5  6  7  8  9]\n",
            " [10 11 12 13 14 15 16 17 18 19]]\n",
            "a[0, 2:7:1] = [2 3 4 5 6], a[0, 2:7:1].shape = (5,)\n",
            "a[:, 2:7:1] = [[ 2  3  4  5  6]\n",
            " [12 13 14 15 16]], a[0, 2:7:1].shape = (2, 5)\n",
            "a[:,:] = \n",
            " [[ 0  1  2  3  4  5  6  7  8  9]\n",
            " [10 11 12 13 14 15 16 17 18 19]] ,  a[:,:].shape = (2, 10)\n",
            "a[1]   =  [10 11 12 13 14 15 16 17 18 19] ,  a[1].shape   = (10,) a 1-D array\n"
          ]
        }
      ]
    }
  ]
}